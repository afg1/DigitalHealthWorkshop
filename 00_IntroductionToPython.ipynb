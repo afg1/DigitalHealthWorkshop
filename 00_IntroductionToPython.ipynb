{
 "cells": [
  {
   "cell_type": "markdown",
   "id": "regular-september",
   "metadata": {},
   "source": [
    "# Introduction to Python\n",
    "This notebook accompanies the \"Introduction to Python\" section in the lecturte notes, and has some examples for you to look at"
   ]
  },
  {
   "cell_type": "code",
   "execution_count": 4,
   "id": "bridal-chosen",
   "metadata": {},
   "outputs": [],
   "source": [
    "\"\"\"\n",
    "This is a multi-line comment in python. Note how it has 3 double quotes at either end\n",
    "\n",
    "I can format the text in here however I want, which makes it useful for documenting what a function does.\n",
    "\"\"\"\n",
    "\n",
    "# This is a single line comment, started by a # symbol. Only things on this line are commented\n",
    "\n",
    "# This is how we import a library, try running this cell\n",
    "import antigravity"
   ]
  },
  {
   "cell_type": "markdown",
   "id": "greenhouse-brazilian",
   "metadata": {},
   "source": [
    "## Variables\n",
    "\n",
    "The next cell will show you how to create a variable in python,  and how to use a builtin function calle type to find out the data type stored in variable"
   ]
  },
  {
   "cell_type": "code",
   "execution_count": 6,
   "id": "gentle-wound",
   "metadata": {},
   "outputs": [
    {
     "name": "stdout",
     "output_type": "stream",
     "text": [
      "<class 'int'>\n"
     ]
    }
   ],
   "source": [
    "## create a variable\n",
    "a_variable = 10\n",
    "\n",
    "## Use a couple of built in functions to tell us what data type is in that variable\n",
    "print(type(a_variable))"
   ]
  },
  {
   "cell_type": "markdown",
   "id": "greenhouse-helen",
   "metadata": {},
   "source": [
    "What are the types of the following variables?\n",
    "\n",
    "Try to work it out, then run the cell and see if you got it"
   ]
  },
  {
   "cell_type": "code",
   "execution_count": 8,
   "id": "dying-broadway",
   "metadata": {},
   "outputs": [
    {
     "name": "stdout",
     "output_type": "stream",
     "text": [
      "Type of variable a is <class 'float'>\n",
      "Type of variable b is <class 'str'>\n",
      "Type of variable c is <class 'bool'>\n",
      "Type of variable d is <class 'NoneType'>\n"
     ]
    }
   ],
   "source": [
    "a = 3.14\n",
    "\n",
    "b = \"Hello, world!\"\n",
    "\n",
    "c = True\n",
    "\n",
    "d = None\n",
    "\n",
    "print(f\"Type of variable a is {type(a)}\")\n",
    "print(f\"Type of variable b is {type(b)}\")\n",
    "print(f\"Type of variable c is {type(c)}\")\n",
    "print(f\"Type of variable d is {type(d)}\")"
   ]
  },
  {
   "cell_type": "markdown",
   "id": "hearing-slave",
   "metadata": {},
   "source": [
    "## Strings\n",
    "Strings are a frequently used and simple ish introduction to objects in python. In the next cell we will play around with strings and some of the methods you can use on them.\n",
    "\n",
    "Strings are everywhere! You will find them in DICOM data being used to store UIDs and other keys, so knowing how to manipulate them is very useful.\n",
    "\n",
    "Notice how, a lot of the time, you just write what you want in english, and that turns out to be how python implemented the function!"
   ]
  },
  {
   "cell_type": "code",
   "execution_count": 9,
   "id": "medium-board",
   "metadata": {},
   "outputs": [
    {
     "name": "stdout",
     "output_type": "stream",
     "text": [
      "Spam, eggs and spam.\n",
      "True\n",
      "False\n",
      "['Spam,', 'eggs', 'and', 'spam.']\n",
      "['Spam', ' eggs and spam.']\n",
      "Spam, eggs and spam\n",
      "spam, spam, spam, spam, spam, spam, spam, spam, spam, spam, spam, spam, spam\n"
     ]
    }
   ],
   "source": [
    "# A string to play with\n",
    "spam_string = \"Spam, eggs and spam.\"\n",
    "print(spam_string)\n",
    "\n",
    "# Does the string start with an upper case S?\n",
    "print(spam_string.startswith(\"S\"))\n",
    "\n",
    "# Does the string end with a lower case m?\n",
    "print(spam_string.endswith(\"m\"))\n",
    "\n",
    "# Split the string on whitespace (i.e. the spaces between words)\n",
    "print(spam_string.split()) ## This returns a list - see later!\n",
    "\n",
    "# Can split on any delimiter we want, e.g. commas\n",
    "print(spam_string.split(','))\n",
    "\n",
    "# Can strip off characters from the beginning and end\n",
    "print(spam_string.strip('.'))\n",
    "\n",
    "# The join method can be used to stick together things in a list\n",
    "# We will discuss lists next\n",
    "spam_list = [\"spam\", \"spam\", \"spam\", \"spam\", \"spam\", \"spam\",\"spam\", \"spam\", \"spam\", \"spam\", \"spam\", \"spam\", \"spam\"]\n",
    "\n",
    "print(\", \".join(spam_list))\n"
   ]
  },
  {
   "cell_type": "markdown",
   "id": "utility-bristol",
   "metadata": {},
   "source": [
    "### A note on string formatting\n",
    "String formatting is one way to get data out of python in a string that we can see on the screen. If you look at some of the cells we have been running, you will see things that look like this:\n",
    "\n",
    "`print(f\"some words then {a_variable} in curly braces\")`\n",
    "\n",
    "This is a relatively new way of formatting strings in python, called an f-string. It will substitute the string representation of `a_variable` wherever it is in the string. This is my favourite method for formatting strings, but there are others.\n",
    "\n",
    "The next most common is the string `.format` method, which works like this:\n",
    "\n",
    "`print(\"some words then {0} in curly braces\".format(a_variable)`\n",
    "\n",
    "This would print the exact same thing as the f-string example. The `.format` method is sometimes better when you want to print the same variable in multiple places in a string, and for me it is easier to see how to do formatting with this type. For example:\n",
    "\n",
    "`print(\"{0:.4f}\".format(333/106))`\n",
    "\n",
    "Should look fairly familiar...\n",
    "\n",
    "In this case, we tell python to format this as a floating point number and only show us 4 decimal places. Similarly\n",
    "\n",
    "`print(\"{0:04d}\".format(10))`\n",
    "\n",
    "Will print an integer (that's what the d means) with enough leading zeros to always have 4 digits. This is *very* useful when dealing with patient IDs for example.\n",
    "\n",
    "Try running the cell below to see the output. \n",
    "\n",
    "- What happens if you change the .4 to .7 in the first statement?\n",
    "- What happens if you change the 03 to 09 in the second statement?"
   ]
  },
  {
   "cell_type": "code",
   "execution_count": 29,
   "id": "controlled-publicity",
   "metadata": {},
   "outputs": [
    {
     "name": "stdout",
     "output_type": "stream",
     "text": [
      "3.1415094\n",
      "000000010\n"
     ]
    }
   ],
   "source": [
    "print(\"{0:.4f}\".format(333/106))\n",
    "print(\"{0:03d}\".format(10))"
   ]
  },
  {
   "cell_type": "markdown",
   "id": "brave-medication",
   "metadata": {},
   "source": [
    "## Lists\n",
    "Lists are what they sound like, lists of things. With a bit of imagination you can use them for all sorts of things\n",
    "\n",
    "Lists area an object type, so they have some methods that can be useful.\n",
    "\n"
   ]
  },
  {
   "cell_type": "code",
   "execution_count": 30,
   "id": "active-lightweight",
   "metadata": {},
   "outputs": [
    {
     "name": "stdout",
     "output_type": "stream",
     "text": [
      "List 2 is: None\n",
      "list 1 is: [1, 2, 3, '4']\n",
      "List 1 in reverse is ['4', 3, 2, 1]\n",
      "The extended List 1 is ['4', 3, 2, 1, 0, -1, -2, -3]\n",
      "4\n"
     ]
    }
   ],
   "source": [
    "# Lists are created by putting things inside square brackets like this\n",
    "list_1 = [1,2,3]\n",
    "\n",
    "# One very useful method - append to a list.\n",
    "# NB: \"4\" means the 4 is a string!\n",
    "list_2 = list_1.append(\"4\")\n",
    "\n",
    "print(f\"List 2 is: {list_2}\")\n",
    "print(f\"list 1 is: {list_1}\")\n",
    "\n",
    "\"\"\"\n",
    "This is a tricky bit of the append method - it acts on the data stored in the list\n",
    "\n",
    "Therefore, it doesn't return anything - so we get None\n",
    "\n",
    "In contrast...\n",
    "\"\"\"\n",
    "\n",
    "# We can reverse a list\n",
    "list_1.reverse()\n",
    "\n",
    "print(f\"List 1 in reverse is {list_1}\")\n",
    "\n",
    "# We can extend a list with another list\n",
    "list_1.extend([0,-1,-2,-3])\n",
    "\n",
    "print(f\"The extended List 1 is {list_1}\")\n",
    "\n",
    "\n",
    "# To get an individual element out of a list, we use square brackets again, but this time as an operator (see later).\n",
    "# Indexing in python starts at zero, so the first element of a list is given by\n",
    "print(list_1[0])\n",
    "\n",
    "# How would you get the 7th element in this list?"
   ]
  },
  {
   "cell_type": "markdown",
   "id": "shaped-president",
   "metadata": {},
   "source": [
    "## Dictionaries\n",
    "Dictionaries in python are a key-value lookup table essentially.\n",
    "\n",
    "Keys and values can be any type, and not all the keys or values must be the same type (you'll see what I mean)\n",
    "\n",
    "Dictionaries appear all over the place, and are used to, for example:\n",
    "- Store configuration settings\n",
    "- Store image header information\n",
    "- Act as a very simple database\n",
    "\n",
    "In the next cell, I'll show some very simple applications of dictionaries"
   ]
  },
  {
   "cell_type": "code",
   "execution_count": 35,
   "id": "superior-symbol",
   "metadata": {},
   "outputs": [
    {
     "name": "stdout",
     "output_type": "stream",
     "text": [
      "{'one': 1, 'two': 2}\n",
      "{'one': 1, 'two': 2, 3.14: 'pi'}\n"
     ]
    },
    {
     "ename": "KeyError",
     "evalue": "'four'",
     "output_type": "error",
     "traceback": [
      "\u001b[1;31m---------------------------------------------------------------------------\u001b[0m",
      "\u001b[1;31mKeyError\u001b[0m                                  Traceback (most recent call last)",
      "\u001b[1;32m<ipython-input-35-d370ded64b6c>\u001b[0m in \u001b[0;36m<module>\u001b[1;34m\u001b[0m\n\u001b[0;32m     12\u001b[0m \u001b[1;33m\u001b[0m\u001b[0m\n\u001b[0;32m     13\u001b[0m \u001b[1;31m# If we try to get a key that doesn't exist...\u001b[0m\u001b[1;33m\u001b[0m\u001b[1;33m\u001b[0m\u001b[1;33m\u001b[0m\u001b[0m\n\u001b[1;32m---> 14\u001b[1;33m \u001b[0ma_dict\u001b[0m\u001b[1;33m[\u001b[0m\u001b[1;34m\"four\"\u001b[0m\u001b[1;33m]\u001b[0m\u001b[1;33m\u001b[0m\u001b[1;33m\u001b[0m\u001b[0m\n\u001b[0m",
      "\u001b[1;31mKeyError\u001b[0m: 'four'"
     ]
    }
   ],
   "source": [
    "# Dictionaries are rcreated using curly braces and key:value \n",
    "a_dict = {\"one\":1, \"two\":2}\n",
    "\n",
    "# dictionaries can be printed like anything else\n",
    "print(a_dict)\n",
    "\n",
    "# Use square brackets to look up the value of a key - in this case we add a new key-value pair\n",
    "a_dict[3.14] = \"pi\" # Note - we switched the types around!\n",
    "\n",
    "# print it again...\n",
    "print(a_dict)\n",
    "\n",
    "# If we try to get a key that doesn't exist...\n",
    "a_dict[\"four\"]"
   ]
  },
  {
   "cell_type": "markdown",
   "id": "likely-macintosh",
   "metadata": {},
   "source": [
    "## Operators\n",
    "Operators are what we use to actually do stuff to our variables. For a list of operators, refer to the slides.\n",
    "\n",
    "The next cell will show you what some of the operators do, feel free to play around with some other ones as well!"
   ]
  },
  {
   "cell_type": "code",
   "execution_count": 49,
   "id": "naughty-review",
   "metadata": {},
   "outputs": [
    {
     "name": "stdout",
     "output_type": "stream",
     "text": [
      "2468\n",
      "1236\n",
      "617.0\n",
      "<class 'float'>\n",
      "617\n",
      "<class 'int'>\n",
      "An_int starts out as 1234\n",
      "And now it is 1236\n",
      "0\n",
      "1\n",
      "Is 1236 divisible by 5? False\n",
      "Is 1236 in the range 0-100? False\n",
      "Try bitshift operator on an_int: 618\n",
      "What does xor do? 1238\n"
     ]
    },
    {
     "data": {
      "text/plain": [
       "'\\nThese operators are working in binary!\\n\\n0000010011010100 \\nXOR\\n0000000000000010\\n=\\n0000010011010110\\n= 1238\\n\\nCheck the xor truth table here: https://en.wikipedia.org/wiki/XOR_gate\\n'"
      ]
     },
     "execution_count": 49,
     "metadata": {},
     "output_type": "execute_result"
    }
   ],
   "source": [
    "an_int = 1234\n",
    "a_float = 567.89\n",
    "a_string = \"hello\"\n",
    "a_boolean = True\n",
    "\n",
    "## Mathematical operators should be pretty obvious\n",
    "\n",
    "print(an_int * 2)\n",
    "print(an_int + 2)\n",
    "\n",
    "## Some operations can behave in slightly unexpected ways:\n",
    "a_division = an_int / 2 ## Python is careful and converts this to float!\n",
    "print(a_division)\n",
    "print(type(a_division))\n",
    "\n",
    "## To do \"real\" integer division:\n",
    "an_int_division = an_int // 2\n",
    "print(an_int_division)\n",
    "print(type(an_int_division))\n",
    "\n",
    "## Compound operators come up a lot, especially in loops\n",
    "print(f\"An_int starts out as {an_int}\")\n",
    "an_int += 2\n",
    "print(f\"And now it is {an_int}\")\n",
    "\n",
    "\n",
    "## The modulo operator (division with remainder) is useful to see if one number is divisible by another\n",
    "print(an_int % 2) ## remainder 0 = divisible by 2\n",
    "print(an_int % 5) ## remainder 1 = not divisible by 5\n",
    "\n",
    "## We can combine operators to tell us if a number is divisible by another:\n",
    "print(f\"Is {an_int} divisible by 5? {an_int % 5 == 0}\") ## NB the curly braces can contain any expression!\n",
    "\n",
    "## Other operators, like in can be handy\n",
    "print(f\"Is {an_int} in the range 0-100? {an_int in range(0,100)}\")\n",
    "\n",
    "\n",
    "## Less used operators, including binary:\n",
    "print(f\"Try bitshift operator on an_int: {an_int >> 1}\") # In this particular case, shifting right by one is equivalent to division by 2\n",
    "print(f\"What does xor do? {an_int ^ 2}\")\n",
    "\n",
    "\"\"\"\n",
    "These operators are working in binary!\n",
    "\n",
    "0000010011010100 \n",
    "XOR\n",
    "0000000000000010\n",
    "=\n",
    "0000010011010110\n",
    "= 1238\n",
    "\n",
    "Check the xor truth table here: https://en.wikipedia.org/wiki/XOR_gate\n",
    "\"\"\"\n",
    "\n",
    "## Try playing around with these operators on the other data types!\n",
    "## What works? What doesn't?\n"
   ]
  },
  {
   "cell_type": "markdown",
   "id": "alpha-marble",
   "metadata": {},
   "source": [
    "## Program Control\n",
    "Program control is the way we structure the program and control what operations it does when, and under what circumstances.\n",
    "\n",
    "There are two main types of program control - loops and if-clauses\n",
    "\n",
    "First, I'll show the if-elif-else clause, which can be used to execute different bits of code under different conditions\n",
    "\n",
    "Then I'll show the for and while loops and why they can be tricky!"
   ]
  },
  {
   "cell_type": "code",
   "execution_count": 51,
   "id": "moderate-entry",
   "metadata": {},
   "outputs": [
    {
     "name": "stdout",
     "output_type": "stream",
     "text": [
      "6199 is not divisible by 3 or 5\n"
     ]
    }
   ],
   "source": [
    "# If elif else clause\n",
    "\n",
    "some_number = 6199\n",
    "\n",
    "if some_number % 3 == 0:\n",
    "    print(f\"{some_number} is divisible by 3\")\n",
    "elif some_number % 5 == 0:\n",
    "    print(f\"{some_number} is divisible by 5\")\n",
    "else:\n",
    "    print(f\"{some_number} is not divisible by 3 or 5\")"
   ]
  },
  {
   "cell_type": "code",
   "execution_count": null,
   "id": "monetary-driving",
   "metadata": {},
   "outputs": [],
   "source": []
  }
 ],
 "metadata": {
  "kernelspec": {
   "display_name": "Python 3",
   "language": "python",
   "name": "python3"
  },
  "language_info": {
   "codemirror_mode": {
    "name": "ipython",
    "version": 3
   },
   "file_extension": ".py",
   "mimetype": "text/x-python",
   "name": "python",
   "nbconvert_exporter": "python",
   "pygments_lexer": "ipython3",
   "version": "3.8.6"
  }
 },
 "nbformat": 4,
 "nbformat_minor": 5
}
